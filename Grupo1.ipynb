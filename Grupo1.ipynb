{
 "cells": [
  {
   "cell_type": "markdown",
   "metadata": {
    "slideshow": {
     "slide_type": "slide"
    }
   },
   "source": [
    "# Lenguajes Nativos para Desarrollo de Apps Móviles\n",
    "\n",
    "<p style=\"text-align: center;\"><font size=40> Melisa Castro </p></font>\n",
    "\n",
    "<p style=\"text-align: center;\"><font size=40>Carlos Cuasqui </p></font>\n",
    "\n",
    "<p style=\"text-align: center;\"><font size=40>Lenin G. Falconí</p></font>\n"
   ]
  },
  {
   "cell_type": "markdown",
   "metadata": {
    "slideshow": {
     "slide_type": "slide"
    }
   },
   "source": [
    "## Objetivo General\n",
    "- Estudiar algunos de los <font color=\"red\">lenguajes nativos de programación </font> para desarrollo de <font color=\"blue\">Apps móbiles</font>, mediante la investigación de sus características, fortalezas, debilidades y comparativa entre estos para lograr elegir el lenguaje nativo necesario según los requerimientos\n",
    "\n",
    "\n",
    "## Objetivos Específicos\n",
    "- Estudiar Android, sus características, fortalezas y debilidades.\n",
    "- Estudiar Objective C, sus características, fortalezas y debilidades.\n",
    "- Estudiar Swift, sus características, fortalezas y debilidades."
   ]
  },
  {
   "cell_type": "markdown",
   "metadata": {
    "slideshow": {
     "slide_type": "slide"
    }
   },
   "source": [
    "### Introducción\n",
    "* El advenimiento de los **smartphones** ha generado una alta demanda de aplicaciones móviles.\n",
    "* Las compañías de desarrollo se han visto en la necesidad de contratar desarrolladores para cubrir la demanda de apps intuitivas, innovadoras y útiles.\n",
    "* Escoger el lenguaje de programación que mejor se adapte a los requerimientos es un factor importante para el desarrollo de aplicaciones móviles.\n",
    "<center>\n",
    "<img src=\"images/intro.jpeg\"/>\n",
    "</center>\n"
   ]
  },
  {
   "cell_type": "markdown",
   "metadata": {
    "slideshow": {
     "slide_type": "subslide"
    }
   },
   "source": [
    "### Introducción\n",
    "El número de aplicaciones estimadas por plataforma es aproximadamente: de aplicaciones móviles:\n",
    "\n",
    "* **Google Play**, 9 millones \n",
    "* **App Store**, 2.5 millones\n",
    "* **Windows** 700 mil"
   ]
  },
  {
   "cell_type": "markdown",
   "metadata": {
    "slideshow": {
     "slide_type": "slide"
    }
   },
   "source": [
    "### Conceptos Importantes\n",
    "* La elección del mejor lenguaje de programación para desarrollar una app depende en gran medida del sistema operativo en el que correrá. \n",
    "* Las apps móviles nativas son apps  que están escritas en un lenguaje nativo que es soportado por el proveedor del sistema operativo del dispositivo.\n",
    "* Las API de plataforma subyacentes están disponibles al 100% para el código de la aplicación y el sistema operativo proporciona la biblioteca de componentes de la interfaz de usuario.\n",
    "* El proceso de compilación convierte este código en una aplicación ejecutable con código de bytes nativo del sistema operativo."
   ]
  },
  {
   "cell_type": "markdown",
   "metadata": {
    "slideshow": {
     "slide_type": "subslide"
    }
   },
   "source": [
    "### Conceptos Importantes\n",
    "#### iOS:\n",
    "* Plataforma patentada por Apple.\n",
    "* Disponible para dispositivos telefónicos (iPhone) y tabletas (iPad)\n",
    "* Debe disponer de una cuenta de desarrollador de Apple y Xcode IDE en una computadora Mac\n",
    "* Las aplicaciones se pueden construir con iOS SDK nativo con Objective-C y Swift\n"
   ]
  },
  {
   "cell_type": "markdown",
   "metadata": {
    "slideshow": {
     "slide_type": "subslide"
    }
   },
   "source": [
    "### Conceptos Importantes\n",
    "#### Android:\n",
    "* Android es una plataforma de código abierto desarrollada y promovida principalmente por Google\n",
    "* Google promueve su propia marca de dispositivos móviles, Pixel (y la marca anterior, Nexus)\n",
    "* Otras maracas que dependen de Android para sus Apps: Samsung, Huawei, Xiaomi y Oppo\n",
    "* Para un IDE, Android Studio es, con mucho, el más popular, pero hay otros IDE igualmente populares como Netbeans e IntelliJ Idea"
   ]
  },
  {
   "cell_type": "markdown",
   "metadata": {
    "slideshow": {
     "slide_type": "slide"
    }
   },
   "source": [
    "## Android\n",
    "<center>\n",
    "<img src=\"images/Imagen1android-cuasqui.jpg\" align=\"center\"/>\n",
    "</center>\n",
    "\n",
    "* Es un sistema operativo móvil desarrollado por Google, basado en Kernel de Linux y otros software de código abierto.\n",
    "* Fue diseñado para dispositivos móviles con pantalla táctil, como teléfonos inteligentes y tabletas."
   ]
  },
  {
   "cell_type": "markdown",
   "metadata": {
    "slideshow": {
     "slide_type": "subslide"
    }
   },
   "source": [
    "### Características\n",
    "\n",
    "* Su núcleo está basado en Linux\n",
    "* Android Studio es el entorno de desarrollo integrado oficial para la plataforma Android. \n",
    "* Reemplazó a Eclipse como el IDE oficial para el desarrollo de aplicaciones para Android.\n",
    "* La primera versión estable fue publicada en diciembre de 2014.\n",
    "\n",
    "<center>\n",
    "<img src=\"images/javaModule-cuasqui.jpg\"/>\n",
    "</center>"
   ]
  },
  {
   "cell_type": "markdown",
   "metadata": {
    "slideshow": {
     "slide_type": "subslide"
    }
   },
   "source": [
    "### Características\n",
    "* Originalmente desarrollado por una empresa llamada Android, en el año 2006 fue adquirida por Google\n",
    "* Android ofrece otras particularidades muy interesantes, tales como las tiendas de aplicaciones. \n",
    "* La tienda oficial de Android es Google Play donde encontraremos un sin número de aplicaciones móviles la mayoría de ellas completamente gratuitas.\n"
   ]
  },
  {
   "cell_type": "markdown",
   "metadata": {
    "slideshow": {
     "slide_type": "subslide"
    }
   },
   "source": [
    "### Fortalezas\n",
    "\n",
    "* Ha sido publicado de forma gratuita a través de la Licencia Apache 2.0. Está disponible para las plataformas Microsoft Windows, macOS y Linux. \n",
    "* Android Studio es un software de código abierto.\n",
    "* Android Studio permite al desarrollador que pruebe su aplicación de forma virtual, sin la necesidad de un dispositivo móvil real ya que cuenta con un emulador.\n",
    "* Gracias a la Integración de marcos de desarrollo y a la caja de herramientas Android NDK (Native Development Kit), admite la utilización de lenguajes de programación como Java.  \n",
    "\n"
   ]
  },
  {
   "cell_type": "markdown",
   "metadata": {
    "slideshow": {
     "slide_type": "subslide"
    }
   },
   "source": [
    "### Debilidades\n",
    "\n",
    "* Si bien Java es uno de los lenguajes de programación más utilizados en el mundo, y es el lenguaje oficial de Android, existen varios motivos por los cuales Java no siempre sea la mejor opción para tus proyectos Android.\n",
    "* El mayor inconveniente es que Java no es un lenguaje moderno\n",
    "* Java además tiene algunos problemas bien documentados, incluyendo bloques try-catch interminables, falta de extensibilidad, inseguridad con respecto a los valores nulos\n",
    "* falta de soporte para programación funcional."
   ]
  },
  {
   "cell_type": "markdown",
   "metadata": {
    "slideshow": {
     "slide_type": "subslide"
    }
   },
   "source": [
    "### Debilidades\n",
    "* La sintaxis de Java es muy verborrágica(abundancia de texto o código)\n",
    "* Para que el emulador trabaje correctamente, requiere de una elevada cantidad de recursos."
   ]
  },
  {
   "cell_type": "markdown",
   "metadata": {
    "slideshow": {
     "slide_type": "slide"
    }
   },
   "source": [
    "## Objective C\n",
    "<center>\n",
    "<img src=\"images/objective-c-1.jpg\"/>\n",
    "</center>\n",
    "\n",
    "* Lenguaje de programación nativo para los sistemas operativos OS X y iOS de Apple. \n",
    "* Creado por Brad Cox y la corporación StepStone en 1980."
   ]
  },
  {
   "cell_type": "markdown",
   "metadata": {
    "slideshow": {
     "slide_type": "subslide"
    }
   },
   "source": [
    "### Características\n",
    "* Orientado a objetos\n",
    "* Basado en C y Smalltalk\n",
    "* Todo código C es compilable en Objective-C\n",
    "* Se pueden usar las librerías de C dentro de Objective-C\n",
    "* No existe un tipo booleano, se usa: \n",
    "```objective-c\n",
    "    typedef signed char BOOL;\n",
    "```\n",
    "* Existen punteros, imprescindibles para tratar con objeto (<font color=\"green\">alloc</font> devuelve un puntero).\n",
    "\n"
   ]
  },
  {
   "cell_type": "markdown",
   "metadata": {
    "slideshow": {
     "slide_type": "subslide"
    }
   },
   "source": [
    "### Características\n",
    "* Presenta herencia simple, cada clase hereda de una y solo una super clase.\n",
    "* Durante la ejecución los objetos son creados siempre en memoria dinámica. \n",
    "* Se entregan los mensajes usando objc_msgSend()\n",
    "* Las variables instancia son normalmente (y por defecto) privadas."
   ]
  },
  {
   "cell_type": "markdown",
   "metadata": {
    "slideshow": {
     "slide_type": "subslide"
    }
   },
   "source": [
    "### Características\n",
    "\n",
    "* Las clases se define en dos archivos (.h y .m)\n",
    "* .h contiene la interfaz de la clase.\n",
    "* No existe operador **new**.\n",
    "* Para instalar un objeto se debe:\n",
    "    * Llamar al método alloc\n",
    "    * Llamar al método init\n",
    "* No hay constructores, se usa init () para código de inicialización custom.\n",
    "* Las propiedades se pueden implementar en .m\n",
    "\n",
    "```objective-c\n",
    "@synthesize name = _name;\n",
    "\n",
    "```\n",
    "\n",
    "* **<font color=\"green\">@synthesize</font>** genera los métodos set y get."
   ]
  },
  {
   "cell_type": "markdown",
   "metadata": {
    "slideshow": {
     "slide_type": "subslide"
    }
   },
   "source": [
    "### Características\n",
    "\n",
    "* Las clases pueden tener propiedades: \n",
    "```objective-c\n",
    "@interface User : NSObject\n",
    "@property (class, nonatomic, assign, readonly) NSInteger userCount;\n",
    "@property (class, nonatomic, copy) NSUUID *identifier;\n",
    "```"
   ]
  },
  {
   "cell_type": "markdown",
   "metadata": {
    "slideshow": {
     "slide_type": "subslide"
    }
   },
   "source": [
    "### Características\n",
    "* Para declarar un puntero se usa:\n",
    "```objective-c\n",
    "    type *varname;\n",
    "```\n",
    "* El valor NULL significa que el puntero apunta a nada.\n",
    "\n",
    "```objective-c\n",
    "#import <Foundation/Foundation.h>\n",
    "\n",
    "int main () {\n",
    "   int  *ptr = NULL;\n",
    "   NSLog(@\"The value of ptr is : %x\\n\", ptr  );\n",
    "   return 0;\n",
    "}\n",
    "```"
   ]
  },
  {
   "cell_type": "markdown",
   "metadata": {
    "slideshow": {
     "slide_type": "subslide"
    }
   },
   "source": [
    "### Características\n",
    "* La gestión de memoria se da por tres métodos:\n",
    "    * Manual: el número de veces que se “reclama” un objeto debe ser igual al numero de veces que se libera.\n",
    "    * Semi-automatico (ARC): No llamar nunca a retain, reléase o autorelease. Se puede actuar como un GC.\n",
    "    * Automático (GC): no puede ser usado en iOS\n",
    "* Durante la ejecución los objetos son creados siempre en memoria dinámica."
   ]
  },
  {
   "cell_type": "markdown",
   "metadata": {
    "slideshow": {
     "slide_type": "subslide"
    }
   },
   "source": [
    "### Fortalezas\n",
    "* Funciona de manera óptima con C++ y Objetive-C++.\n",
    "* Posee características dinámicas en su funcionamiento, como el método swizzling.\n",
    "* Posee soporte mejorado al momento de insertar marcos binarios.\n",
    "* Un programa escrito en Objective C es más dinámica, capaz de reunir información sobre sí mismo para tomar decisiones con respecto a los tipos de memoria o de datos."
   ]
  },
  {
   "cell_type": "markdown",
   "metadata": {
    "slideshow": {
     "slide_type": "subslide"
    }
   },
   "source": [
    "### Debilidades\n",
    "* Al estar construido en C, posee poco espacio de nombre.\n",
    "* Produce errores difíciles de encontrar y corregir.\n",
    "* Contiene lenguaje detallado pero complejo.\n",
    "* En Objective C es que se basa en gran medida en el marco de cacao por su funcionalidad. Si bien esto es un beneficio para los desarrolladores de Apple, los desarrolladores de Windows no encontrarán el mismo éxito. \n"
   ]
  },
  {
   "cell_type": "markdown",
   "metadata": {
    "slideshow": {
     "slide_type": "slide"
    }
   },
   "source": [
    "## Swift\n",
    "<center>\n",
    "<img src=\"images/imagen-falconi01.jpeg\">\n",
    "</center>"
   ]
  },
  {
   "cell_type": "markdown",
   "metadata": {
    "slideshow": {
     "slide_type": "fragment"
    }
   },
   "source": [
    "### Introducción\n",
    "\n",
    "* Introducido por Apple en 2014 para la plataforma **iOS**.\n",
    "* Disponible para desarrollo de Apps desde **Xcode 2015**.\n",
    "* Es el lenguaje por defecto de Apple para desarrollo hoy en día."
   ]
  },
  {
   "cell_type": "markdown",
   "metadata": {
    "slideshow": {
     "slide_type": "subslide"
    }
   },
   "source": [
    "### Características\n",
    "* Es similar a lenguajes de programación tipo **script**\n",
    "* Requiere computador Mac (macOS 10.11.5 o posterior) con última version <font color=\"red\">Xcode</font>\n",
    "* Requiere de una cuenta **Xcode IDE** en un computador **Mac**\n",
    "* Sintaxis ligera y moderna para expresar ideas complejas de manera clara concisa.\n",
    "* Combina la seguridad y la velocidad en el desarrollo.\n",
    "* Maneja automáticamente la memoria.\n",
    "* No requiere de **;** para finalizar la instrucción.\n",
    "\n"
   ]
  },
  {
   "cell_type": "markdown",
   "metadata": {
    "slideshow": {
     "slide_type": "subslide"
    }
   },
   "source": [
    "### Características\n",
    "\n",
    "* Las variables siempre son inicializadas antes de su uso.\n",
    "* Provee propias versiones de todos los tipos de datos fundamentales de **C** y **Objective-C**.\n",
    "* Dispone de versiones mejoradas para los tipos de dato: diccionario, arreglo y conjunto.\n",
    "* Los índices de los arreglos son revisados para evitar errores de desborde.\n",
    "* WRT. Objective-c dispone de Tuplas, retornando múltiples valores de una función como un elemento sencillo.\n"
   ]
  },
  {
   "cell_type": "markdown",
   "metadata": {
    "slideshow": {
     "slide_type": "subslide"
    }
   },
   "source": [
    "### Características\n",
    "\n",
    "* La declaración de una clase con atributo y métodos en swift es:\n",
    "```swift\n",
    "class Square {\n",
    "    var length: Int = 1\n",
    "    \n",
    "    func area() -> Int {\n",
    "    return length * length\n",
    "  }\n",
    "    init(length: Int) {\n",
    "        self.length = length\n",
    "    }\n",
    "}\n",
    "```\n",
    "* La instanciación de un objeto es:\n",
    "\n",
    "```swift\n",
    "var firstSquare = Square(length: 3)\n",
    "println(firstSquare.length)\n",
    "```"
   ]
  },
  {
   "cell_type": "markdown",
   "metadata": {
    "slideshow": {
     "slide_type": "subslide"
    }
   },
   "source": [
    "### Características\n",
    "* La herencia se implementa con la palabra reservada **Subclass**\n",
    "\n",
    "```swift\n",
    "class UnaSubclase: UnaSuperClase {\n",
    "    // definición de la subclase\n",
    "}\n",
    "```"
   ]
  },
  {
   "cell_type": "markdown",
   "metadata": {
    "slideshow": {
     "slide_type": "fragment"
    }
   },
   "source": [
    "\n",
    "```swift\n",
    "class Vehiculo {\n",
    "    var velocidadActual = 0.0\n",
    "    func sonarBocina() {\n",
    "    }\n",
    "}\n",
    "class Bicicleta: Vehiculo {\n",
    "    var tieneCesta = false\n",
    "}\n",
    "let bicicleta = Bicicleta()\n",
    "bicicleta.tieneCesta = true\n",
    "```"
   ]
  },
  {
   "cell_type": "markdown",
   "metadata": {
    "slideshow": {
     "slide_type": "subslide"
    }
   },
   "source": [
    "### Fortalezas del Lenguaje\n",
    "* Amisto y fácil de utilizar y con soporte de la ingeniería de Apple\n",
    "* Compilador optimizado para el rendimiento del dispositivo\n",
    "* Lenguaje optimizado para el desarrollo de la aplicación\n",
    "* Es **Open Source**\n",
    "* Es **type-safe** y tiene **type-inference**\n",
    "```swift\n",
    "let var1 = 42\n",
    "let pi = 3.1459\n",
    "```"
   ]
  },
  {
   "cell_type": "markdown",
   "metadata": {
    "slideshow": {
     "slide_type": "subslide"
    }
   },
   "source": [
    "### Debilidades del Lenguaje\n",
    "* Desarrollo exclusivo en un computador Mac.\n",
    "* No puede hacer el desarrollo y *debug* en Windows.\n",
    "* Swift siempre escoge **Double** antes que **Float**\n",
    "* Lenguaje muy joven\n",
    "* Poca interoperabilidad con herramientas de terceros e IDEs\n"
   ]
  },
  {
   "cell_type": "markdown",
   "metadata": {
    "slideshow": {
     "slide_type": "slide"
    }
   },
   "source": [
    "### Conclusiones\n",
    "* Unas de las caracterízate notables del lenguaje objetive C es la forma en la que acopla la programación orientada a objetos y la compatibilidad con el lenguaje c, logrando una compatibilidad con todos los programas y librerías de C.\n",
    "* Swift ofrece código más conciso, claro y limpio que facilita la escritura y la comprensión, lo que facilita el aprendizaje del lenguaje especialmente a programadores que vienen de otras plataformas.\n",
    "* En las plataformas **iOS** una desventaja fuerte es lo cerrado del desarrollo que está anclado a utilizar equipos y software especifico.\n",
    "* El hermeticismo de Apple puede generar que algunos programadores no conozcan o no se familiaricen con el desarrollo de sus herramientas al carecer del hardware.\n",
    "* Android, como ventaja, puede ser programado en cualquier tipo de computador a diferencia de **iOS**.\n"
   ]
  },
  {
   "cell_type": "markdown",
   "metadata": {
    "slideshow": {
     "slide_type": "slide"
    }
   },
   "source": [
    "## Referencias e información adicional:\n",
    "1. Introducion a objetive C, ferestrepoca\n",
    "2. Objective C, Luis Montesano & Ana C. Murillo\n",
    "3. https://domingogallardo.github.io/apuntes-lpp/teoria/tema06-programacion-orientada-objetos-swift/tema06-programacion-orientada-objetos-swift.html#herencia\n",
    "4. https://medium.com/@TarunNagarDubai/8-best-programming-languages-for-mobile-app-development-59c2247c63b0\n",
    "5. https://www.weheartswift.com/object-oriented-programming-swift/\n",
    "6. https://www.alianzared.com/estadisticas-marketing-movil-2018/"
   ]
  }
 ],
 "metadata": {
  "celltoolbar": "Slideshow",
  "kernelspec": {
   "display_name": "Python 3",
   "language": "python",
   "name": "python3"
  },
  "language_info": {
   "codemirror_mode": {
    "name": "ipython",
    "version": 3
   },
   "file_extension": ".py",
   "mimetype": "text/x-python",
   "name": "python",
   "nbconvert_exporter": "python",
   "pygments_lexer": "ipython3",
   "version": "3.6.10"
  },
  "livereveal": {
   "autolaunch": true
  },
  "rise": {
   "height": "80%",
   "theme": "solarized",
   "transition": "zoom",
   "width": "80%"
  }
 },
 "nbformat": 4,
 "nbformat_minor": 4
}
